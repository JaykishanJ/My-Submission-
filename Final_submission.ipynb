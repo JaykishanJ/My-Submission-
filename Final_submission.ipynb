{
 "cells": [
  {
   "cell_type": "markdown",
   "metadata": {},
   "source": [
    "<center>\n",
    "    <img src=\"https://s3-api.us-geo.objectstorage.softlayer.net/cf-courses-data/CognitiveClass/Logos/organization_logo/organization_logo.png\" width=\"300\" alt=\"cognitiveclass.ai logo\"  />\n",
    "</center>\n"
   ]
  },
  {
   "cell_type": "markdown",
   "metadata": {},
   "source": [
    "#### Add your code below following the instructions given in the course\n"
   ]
  },
  {
   "cell_type": "markdown",
   "metadata": {},
   "source": [
    "<h2>Cell 1.</h2>\n",
    "\n",
    "<h1>My Jupyter Notebook on IBM Watson Studio<h1>"
   ]
  },
  {
   "cell_type": "markdown",
   "metadata": {},
   "source": [
    "<h2>Cell 2.</h2>\n",
    "\n",
    "<h2><b>Name:Solanki Jaykishan</b></h2>   <h2><b>Occupation: I am Student</b></h2>"
   ]
  },
  {
   "cell_type": "markdown",
   "metadata": {},
   "source": [
    "<h2> Cell 3.</h2>\n",
    "\n",
    "<i> I am student of Bioinformatics that deals with biological data analysis so data analysis is done by data science tools and techniues so i am intrested in data science<i>"
   ]
  },
  {
   "cell_type": "markdown",
   "metadata": {},
   "source": [
    "<h2>Cell 4.<h2>\n",
    "\n",
    "<h3>In this cell 5 I mention code that can able to claulate sum and multipication<h3> "
   ]
  },
  {
   "cell_type": "code",
   "execution_count": 14,
   "metadata": {},
   "outputs": [
    {
     "name": "stdout",
     "output_type": "stream",
     "text": [
      "Cell 4.\n",
      "sum is 35\n",
      "Multipication is 250\n"
     ]
    }
   ],
   "source": [
    "print(\"Cell 4.\")\n",
    "#Calculation \n",
    "X=10\n",
    "Y=25\n",
    "D=X+Y\n",
    "G=X*Y\n",
    "print(\"sum is\", D)\n",
    "print(\"Multipication is\",G)"
   ]
  },
  {
   "attachments": {},
   "cell_type": "markdown",
   "metadata": {},
   "source": [
    "<h2> Cell 6.</h2>\n",
    "<ol>\n",
    "<h3>This are Odderd lists<h3> \n",
    "<li>Frist Number</li>\n",
    "<li>Second Number</li>\n",
    "<li>Third Number</li>\n",
    "</ol>\n",
    "    \n",
    "<h2>Horizontal rules</h2>\n",
    "    \n",
    "***\n",
    "THis is how i write in horizontal\n",
    "***\n",
    "\n",
    "<h2>Link in markdown</h2>\n",
    "    \n",
    "Here is My [GitHub](https://github.com/JaykishanJ)\n",
    "\n",
    "    \n",
    "<h2>Blockquotes</h2>\n",
    "\n",
    ">This is how we can write in Blockquotes.\n",
    "    \n",
    "<h2>here is image we can put<h2>\n",
    "\n",
    "![Lets see maoutains!](https://mdg.imgix.net/assets/images/san-juan-mountains.jpg?auto=format&fit=clip&q=40&w=1080)"
   ]
  },
  {
   "cell_type": "code",
   "execution_count": null,
   "metadata": {},
   "outputs": [],
   "source": []
  }
 ],
 "metadata": {
  "kernelspec": {
   "display_name": "Python 3 (ipykernel)",
   "language": "python",
   "name": "python3"
  },
  "language_info": {
   "codemirror_mode": {
    "name": "ipython",
    "version": 3
   },
   "file_extension": ".py",
   "mimetype": "text/x-python",
   "name": "python",
   "nbconvert_exporter": "python",
   "pygments_lexer": "ipython3",
   "version": "3.9.7"
  }
 },
 "nbformat": 4,
 "nbformat_minor": 4
}
